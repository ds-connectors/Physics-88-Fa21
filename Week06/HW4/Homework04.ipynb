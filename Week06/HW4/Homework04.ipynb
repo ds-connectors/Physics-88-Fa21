{
 "cells": [
  {
   "cell_type": "markdown",
   "metadata": {
    "collapsed": true
   },
   "source": [
    "# Homework 4: File I/O, Statistics"
   ]
  },
  {
   "cell_type": "markdown",
   "metadata": {},
   "source": [
    "Please complete this homework assignment in code cells in the iPython notebook. Include comments in your code when necessary.  Please rename the notebook as SIS ID_HW04.ipynb (your student ID number) and save the notebook once you have executed it as a PDF  (note, that when saving as PDF you don't want to use the option with latex because it crashes, but rather the one to save it directly as a PDF). \n",
    "\n",
    "For questions that ask you to make an interpretation, please write a sentence or two explaining your response. You can use \"Markdown\" language to create a cell (like this one) which is ordinary text instead of using code. To do this, create a new cell, and then look at the bar above which has a picture of a floppy disk. On the right side is a drop down menu that allows you change whether a cell is \"Markdown\" or \"Code\".\n",
    "\n",
    "**The homework should be submitted on bCourses under the Assignments tab (both the .ipynb and .pdf files). Please label it by your student ID number (SIS ID)**"
   ]
  },
  {
   "cell_type": "markdown",
   "metadata": {},
   "source": [
    "## Problem 1: Wind Statistics\n",
    "\n",
    "In this problem, you'll create a new array that summarizes a larger dataset. In the folder for this Homework assignment, you'll find a dataset \"`wind.data`\", and a description of the dataset \"`wind.desc`\". \n",
    "\n",
    "Read the description `wind.desc` to understand the format of `wind.data`. Then, write a program which loads the data and generates a new array with the following format: each row should contain the year, month, mean wind speed, min wind speed, and max wind speed, in that order. The means, mins, and maxes should be taken over all days in that particular month, over all the cities that `wind.data` includes. The rows should be in chronological order. Printing your array should give you something like this:\n",
    "\n",
    "    [[ 61.           1.          11.38064516   0.5         27.71      ]\n",
    "     [ 61.           2.          13.49235119   2.21        29.63      ]\n",
    "     [ 61.           3.          11.07236559   1.46        23.45      ]\n",
    "     ..., \n",
    "     [ 78.          10.           9.23389785   0.21        28.21      ]\n",
    "     [ 78.          11.          12.72102778   0.96        30.21      ]\n",
    "     [ 78.          12.          12.70357527   0.42        41.46      ]]\n",
    "\n",
    "Next, plot the means, mins, and maxes over time using just a single `plt.plot()` command, along with whatever other commands you need to label and display the figure. (Hint: What happens when you plot a 2D array?) Be sure to label your figure with proper units, etc. The x-axis may be labeled using year/month or just the years (i.e. have ticks along the axis which are labeled with some of the years, like 1961,1964,1967,1970,etc.). There are several ways to accomplish this. One way is to use `plt.xticks()`, which will give you the most explicit control over which points on the x axis get labeled and what labels they get. To understand this function, check out the documentation for `matplotlib.pyplot.xticks` on the `matplotlib` website.\n",
    "\n",
    "** Just for fun **\n",
    "\n",
    "If you look at your plot, you'll notice some periodicity in the wind speeds. To better see the period, use the `running_average` function you wrote for the Sunspots problem to plot the running average of the means, mins, and maxes along with the original curves. Depending on how you wrote your `running_average` function, it may work immediately on this new 2D array without any modifications! From visual inspection of your running average, how long is the period, and when are wind speeds fastest and slowest in Ireland?\n",
    "\n",
    "#### Hints\n",
    "\n",
    "Depending on how you do this problem, you may find it useful to use boolean indexing along with numpy's `logical_and` function. It's okay to use lists as intermediate steps in generating your array. That is, not everything has to be an array, though it is possible to do this with only arrays. (Challenge!)\n",
    "\n"
   ]
  },
  {
   "cell_type": "markdown",
   "metadata": {},
   "source": [
    "## Problem 2: Central Limit Theorem"
   ]
  },
  {
   "cell_type": "markdown",
   "metadata": {},
   "source": [
    "Here we will verify the Central Limit Theorem and reproduced a plot I showed in class (https://en.wikipedia.org/wiki/Central_limit_theorem#/media/File:Dice_sum_central_limit_theorem.svg)"
   ]
  },
  {
   "cell_type": "markdown",
   "metadata": {},
   "source": [
    "1. Write a function that returns $n$ integer random numbers, uniformly disributed between 1 and 6, inclusively. This represents $n$ throws of a fair 6-sided die. The value that comes up at each throw will be called the \"score\".\n",
    "1. Generate a distribution of 1000 dice throws and plot it as a  histogram normalized to unit area. Compute the mean $\\mu_1$ and standard deviation $\\sigma_1$ of this distribution. Compare your numerical result to the analytical calculation. \n",
    "1. Generate 1000 sets of throws of $N=2,3,4,5,10$ dice, computing the total sum of dice scores for each set. For each value of $N$, plot the distribution of total scores, and compute the mean $\\mu_N$ and standard deviation $\\sigma_N$ of each distribution. This should be similar to the plot at the link above.\n",
    "1. Plot the standard deviation $\\sigma_N$ as a function of $N$. Does it follow the Central Limit Theorem? "
   ]
  },
  {
   "cell_type": "code",
   "execution_count": null,
   "metadata": {
    "collapsed": true
   },
   "outputs": [],
   "source": []
  },
  {
   "cell_type": "code",
   "execution_count": null,
   "metadata": {
    "collapsed": true
   },
   "outputs": [],
   "source": []
  }
 ],
 "metadata": {
  "kernelspec": {
   "display_name": "Python 3 (ipykernel)",
   "language": "python",
   "name": "python3"
  },
  "language_info": {
   "codemirror_mode": {
    "name": "ipython",
    "version": 3
   },
   "file_extension": ".py",
   "mimetype": "text/x-python",
   "name": "python",
   "nbconvert_exporter": "python",
   "pygments_lexer": "ipython3",
   "version": "3.9.6"
  }
 },
 "nbformat": 4,
 "nbformat_minor": 1
}
