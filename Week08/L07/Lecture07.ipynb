{
 "cells": [
  {
   "cell_type": "markdown",
   "metadata": {},
   "source": [
    "# Monte Carlo Techniques"
   ]
  },
  {
   "cell_type": "markdown",
   "metadata": {},
   "source": [
    "## Part 1: Examples"
   ]
  },
  {
   "cell_type": "markdown",
   "metadata": {},
   "source": [
    "### Example: coin flip"
   ]
  },
  {
   "cell_type": "markdown",
   "metadata": {},
   "source": [
    "Let's check how to use the random number generator in numpy  "
   ]
  },
  {
   "cell_type": "code",
   "execution_count": 3,
   "metadata": {},
   "outputs": [],
   "source": [
    "?np.random"
   ]
  },
  {
   "cell_type": "markdown",
   "metadata": {},
   "source": [
    "Alternatively, we can look at the documentation on the numpy site: https://numpy.org/doc/stable/reference/random/generated/numpy.random.rand.html"
   ]
  },
  {
   "cell_type": "code",
   "execution_count": 6,
   "metadata": {},
   "outputs": [
    {
     "name": "stdout",
     "output_type": "stream",
     "text": [
      "Tails\n",
      "Heads\n",
      "Heads\n",
      "Tails\n",
      "Heads\n"
     ]
    }
   ],
   "source": [
    "# standard preamble\n",
    "import numpy as np\n",
    "import scipy as sp\n",
    "from scipy import stats\n",
    "import matplotlib.pyplot as plt\n",
    "%matplotlib inline\n",
    "\n",
    "outcomes = ('Heads','Tails')\n",
    "\n",
    "def flip():\n",
    "    if np.random.random() > 0.5:\n",
    "        return outcomes[1]\n",
    "    \n",
    "    return outcomes[0]\n",
    "\n",
    "for i in range(5):\n",
    "    print (flip())\n",
    "     "
   ]
  },
  {
   "cell_type": "code",
   "execution_count": 6,
   "metadata": {},
   "outputs": [
    {
     "name": "stdout",
     "output_type": "stream",
     "text": [
      "Heads\n"
     ]
    }
   ],
   "source": [
    "print(flip())"
   ]
  },
  {
   "cell_type": "markdown",
   "metadata": {
    "collapsed": true
   },
   "source": [
    "### Example: dice roll"
   ]
  },
  {
   "cell_type": "code",
   "execution_count": 7,
   "metadata": {},
   "outputs": [
    {
     "name": "stdout",
     "output_type": "stream",
     "text": [
      "2\n"
     ]
    }
   ],
   "source": [
    "def dice():\n",
    "    return int(np.random.random()*6)+1\n",
    "\n",
    "print (dice())"
   ]
  },
  {
   "cell_type": "code",
   "execution_count": 9,
   "metadata": {},
   "outputs": [
    {
     "name": "stdout",
     "output_type": "stream",
     "text": [
      "6\n",
      "5\n",
      "5\n",
      "6\n",
      "5\n"
     ]
    }
   ],
   "source": [
    "for i in range(5):\n",
    "    print (dice())"
   ]
  },
  {
   "cell_type": "code",
   "execution_count": 11,
   "metadata": {},
   "outputs": [
    {
     "data": {
      "text/plain": [
       "Text(0, 0.5, 'Number of Values')"
      ]
     },
     "execution_count": 11,
     "metadata": {},
     "output_type": "execute_result"
    },
    {
     "data": {
      "image/png": "[encoded data removed]",
      "text/plain": [
       "<Figure size 432x288 with 1 Axes>"
      ]
     },
     "metadata": {
      "needs_background": "light"
     },
     "output_type": "display_data"
    }
   ],
   "source": [
    "x = [dice() for i in range(10000)]\n",
    "n, bins, patches = plt.hist(x,6,(0.5,6.5))\n",
    "plt.xlabel('Dice Number')\n",
    "plt.ylabel('Number of Values')"
   ]
  },
  {
   "cell_type": "markdown",
   "metadata": {},
   "source": [
    "### Example: deck of cards"
   ]
  },
  {
   "cell_type": "code",
   "execution_count": 12,
   "metadata": {},
   "outputs": [
    {
     "name": "stdout",
     "output_type": "stream",
     "text": [
      "['4c', 'Jd', '4s', '5c', 'Kh']\n"
     ]
    }
   ],
   "source": [
    "import random\n",
    "import itertools\n",
    "SUITS = 'cdhs'\n",
    "RANKS = '23456789TJQKA'\n",
    "DECK = tuple(''.join(card) for card in itertools.product(RANKS, SUITS))\n",
    "hand = random.sample(DECK, 5)\n",
    "print (hand)"
   ]
  },
  {
   "cell_type": "markdown",
   "metadata": {},
   "source": [
    "Let's take a brief look at the documentation for itertools: https://docs.python.org/3/library/itertools.html"
   ]
  },
  {
   "cell_type": "markdown",
   "metadata": {},
   "source": [
    "## Part 2"
   ]
  },
  {
   "cell_type": "markdown",
   "metadata": {},
   "source": [
    "### Example: Linear Congruential Generator"
   ]
  },
  {
   "cell_type": "code",
   "execution_count": 13,
   "metadata": {},
   "outputs": [
    {
     "name": "stdout",
     "output_type": "stream",
     "text": [
      "33031656 198186408 957896856 65108986 127826865 \n",
      "0 3 2 5 4 7 6 1 0 3 2 5 4 7 6 1 0 3 2 5 \n"
     ]
    }
   ],
   "source": [
    "#set the seed for random number generation\n",
    "myRandomSeed = 504\n",
    "\n",
    "# define function to calculate random number\n",
    "def myRandom(a=65539, b=0, c=int(2**31-1)):\n",
    "    global myRandomSeed\n",
    "    x = (a*myRandomSeed+b) % c\n",
    "    myRandomSeed = x\n",
    "    return x\n",
    "\n",
    "# print out the random numbers in a string\n",
    "out = \"\"\n",
    "for i in range(5):\n",
    "    out += str(myRandom())\n",
    "    out += \" \"\n",
    "    \n",
    "print (out)\n",
    "    \n",
    "out = \"\"\n",
    "\n",
    "# now, choose a very particular value for the random seed\n",
    "myRandomSeed = 1\n",
    "for i in range(20):\n",
    "    out += str(myRandom(a=5, b=3, c=8))\n",
    "    out += \" \"\n",
    "\n",
    "print (out)"
   ]
  },
  {
   "cell_type": "code",
   "execution_count": null,
   "metadata": {},
   "outputs": [],
   "source": [
    "## Part 3: Random numbers in python"
   ]
  },
  {
   "cell_type": "markdown",
   "metadata": {},
   "source": [
    "### Example: Python random numbers"
   ]
  },
  {
   "cell_type": "code",
   "execution_count": 15,
   "metadata": {},
   "outputs": [
    {
     "name": "stdout",
     "output_type": "stream",
     "text": [
      "6\n"
     ]
    }
   ],
   "source": [
    "# integer random number between [a..b]\n",
    "print (np.random.randint(0,6)+1)"
   ]
  },
  {
   "cell_type": "code",
   "execution_count": 16,
   "metadata": {},
   "outputs": [
    {
     "name": "stdout",
     "output_type": "stream",
     "text": [
      "0.9380424015141248\n",
      "5.613501778699208\n"
     ]
    }
   ],
   "source": [
    "# float random number between [0..1)\n",
    "print (np.random.random())\n",
    "x01 = np.random.random()   # [0..1)\n",
    "x05 = x01*5                 # [0..5)\n",
    "x510 = x05+5                # [5..10)\n",
    "print(x510)"
   ]
  },
  {
   "cell_type": "code",
   "execution_count": 37,
   "metadata": {},
   "outputs": [
    {
     "name": "stdout",
     "output_type": "stream",
     "text": [
      "5.487250616634572\n"
     ]
    }
   ],
   "source": [
    "# float random number between [a..b)\n",
    "print (np.random.uniform(5,10))"
   ]
  },
  {
   "cell_type": "code",
   "execution_count": 17,
   "metadata": {},
   "outputs": [
    {
     "name": "stdout",
     "output_type": "stream",
     "text": [
      "c\n"
     ]
    }
   ],
   "source": [
    "# Choose a random element\n",
    "print (np.random.choice(['a','b','c','d','e','f','g','h','i','j']))  "
   ]
  },
  {
   "cell_type": "code",
   "execution_count": 18,
   "metadata": {},
   "outputs": [
    {
     "name": "stdout",
     "output_type": "stream",
     "text": [
      "Mean = 7.500\n",
      "Std. dev. = 1.443\n"
     ]
    },
    {
     "data": {
      "image/png": "[encoded data removed]",
      "text/plain": [
       "<Figure size 432x288 with 1 Axes>"
      ]
     },
     "metadata": {
      "needs_background": "light"
     },
     "output_type": "display_data"
    }
   ],
   "source": [
    "# plot distribution\n",
    "ds = np.random.uniform(5,10,size=10000000)\n",
    "print('Mean = {0:5.3f}'.format(np.mean(ds)))\n",
    "print('Std. dev. = {0:5.3f}'.format(np.std(ds)))\n",
    "plt.hist(ds,50,density=True)\n",
    "plt.show()"
   ]
  },
  {
   "cell_type": "markdown",
   "metadata": {},
   "source": [
    "### Example: Python random number generators"
   ]
  },
  {
   "cell_type": "code",
   "execution_count": 19,
   "metadata": {},
   "outputs": [
    {
     "name": "stdout",
     "output_type": "stream",
     "text": [
      "Mean = 2.193\n",
      "Std. dev. = 2.106\n"
     ]
    },
    {
     "data": {
      "image/png": "[encoded data removed]",
      "text/plain": [
       "<Figure size 432x288 with 1 Axes>"
      ]
     },
     "metadata": {
      "needs_background": "light"
     },
     "output_type": "display_data"
    }
   ],
   "source": [
    "ds = np.random.exponential(scale=2.2,size=1000)   # generate life time of a muon (in usec)\n",
    "print('Mean = {0:5.3f}'.format(np.mean(ds)))\n",
    "print('Std. dev. = {0:5.3f}'.format(np.std(ds)))\n",
    "plt.hist(ds,50,density=True)\n",
    "plt.show()"
   ]
  },
  {
   "cell_type": "markdown",
   "metadata": {},
   "source": [
    "See discussion of the [Cauchy distribution](https://en.wikipedia.org/wiki/Cauchy_distribution) in wikipedia for further information."
   ]
  },
  {
   "cell_type": "code",
   "execution_count": 53,
   "metadata": {},
   "outputs": [
    {
     "name": "stdout",
     "output_type": "stream",
     "text": [
      "Mean = -1.292\n",
      "Std. dev. = 76.745\n"
     ]
    },
    {
     "data": {
      "image/png": "[encoded data removed]",
      "text/plain": [
       "<Figure size 432x288 with 1 Axes>"
      ]
     },
     "metadata": {
      "needs_background": "light"
     },
     "output_type": "display_data"
    }
   ],
   "source": [
    "ds = np.random.standard_cauchy(size=10000)\n",
    "print('Mean = {0:5.3f}'.format(np.mean(ds)))\n",
    "print('Std. dev. = {0:5.3f}'.format(np.std(ds)))\n",
    "plt.hist(ds,20,density=True)\n",
    "plt.show()"
   ]
  },
  {
   "cell_type": "code",
   "execution_count": 29,
   "metadata": {},
   "outputs": [
    {
     "name": "stdout",
     "output_type": "stream",
     "text": [
      "Mean = 10.000\n",
      "Std. dev. = 2.042\n"
     ]
    },
    {
     "data": {
      "image/png": "[encoded data removed]",
      "text/plain": [
       "<Figure size 432x288 with 1 Axes>"
      ]
     },
     "metadata": {
      "needs_background": "light"
     },
     "output_type": "display_data"
    }
   ],
   "source": [
    "ds = np.random.triangular(5,10,15,size=10000000)\n",
    "print('Mean = {0:5.3f}'.format(sp.mean(ds)))\n",
    "print('Std. dev. = {0:5.3f}'.format(sp.std(ds)))\n",
    "plt.hist(ds,50,density=True)\n",
    "plt.show()"
   ]
  },
  {
   "cell_type": "code",
   "execution_count": null,
   "metadata": {
    "collapsed": true
   },
   "outputs": [],
   "source": []
  }
 ],
 "metadata": {
  "kernelspec": {
   "display_name": "Python 3 (ipykernel)",
   "language": "python",
   "name": "python3"
  },
  "language_info": {
   "codemirror_mode": {
    "name": "ipython",
    "version": 3
   },
   "file_extension": ".py",
   "mimetype": "text/x-python",
   "name": "python",
   "nbconvert_exporter": "python",
   "pygments_lexer": "ipython3",
   "version": "3.9.6"
  }
 },
 "nbformat": 4,
 "nbformat_minor": 1
}
